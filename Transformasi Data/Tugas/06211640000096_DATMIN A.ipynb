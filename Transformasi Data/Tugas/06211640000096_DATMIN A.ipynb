{
 "cells": [
  {
   "cell_type": "markdown",
   "metadata": {},
   "source": [
    "# TUGAS DATA MINING 3"
   ]
  },
  {
   "cell_type": "code",
   "execution_count": 42,
   "metadata": {},
   "outputs": [],
   "source": [
    "import numpy as np\n",
    "import pandas as pd"
   ]
  },
  {
   "cell_type": "code",
   "execution_count": 43,
   "metadata": {},
   "outputs": [
    {
     "data": {
      "text/html": [
       "<div>\n",
       "<style scoped>\n",
       "    .dataframe tbody tr th:only-of-type {\n",
       "        vertical-align: middle;\n",
       "    }\n",
       "\n",
       "    .dataframe tbody tr th {\n",
       "        vertical-align: top;\n",
       "    }\n",
       "\n",
       "    .dataframe thead th {\n",
       "        text-align: right;\n",
       "    }\n",
       "</style>\n",
       "<table border=\"1\" class=\"dataframe\">\n",
       "  <thead>\n",
       "    <tr style=\"text-align: right;\">\n",
       "      <th></th>\n",
       "      <th>age</th>\n",
       "      <th>bmi</th>\n",
       "      <th>charges</th>\n",
       "    </tr>\n",
       "  </thead>\n",
       "  <tbody>\n",
       "    <tr>\n",
       "      <th>0</th>\n",
       "      <td>19.0</td>\n",
       "      <td>27.900</td>\n",
       "      <td>16884.92400</td>\n",
       "    </tr>\n",
       "    <tr>\n",
       "      <th>1</th>\n",
       "      <td>18.0</td>\n",
       "      <td>33.770</td>\n",
       "      <td>1725.55230</td>\n",
       "    </tr>\n",
       "    <tr>\n",
       "      <th>2</th>\n",
       "      <td>28.0</td>\n",
       "      <td>33.000</td>\n",
       "      <td>4449.46200</td>\n",
       "    </tr>\n",
       "    <tr>\n",
       "      <th>3</th>\n",
       "      <td>NaN</td>\n",
       "      <td>22.705</td>\n",
       "      <td>21984.47061</td>\n",
       "    </tr>\n",
       "    <tr>\n",
       "      <th>4</th>\n",
       "      <td>32.0</td>\n",
       "      <td>28.880</td>\n",
       "      <td>3866.85520</td>\n",
       "    </tr>\n",
       "  </tbody>\n",
       "</table>\n",
       "</div>"
      ],
      "text/plain": [
       "    age     bmi      charges\n",
       "0  19.0  27.900  16884.92400\n",
       "1  18.0  33.770   1725.55230\n",
       "2  28.0  33.000   4449.46200\n",
       "3   NaN  22.705  21984.47061\n",
       "4  32.0  28.880   3866.85520"
      ]
     },
     "execution_count": 43,
     "metadata": {},
     "output_type": "execute_result"
    }
   ],
   "source": [
    "insurance = pd.read_csv('G:\\Kuliah\\Data Mining\\Transformasi Data\\Tugas\\insurancefix.csv')\n",
    "insurance.head()"
   ]
  },
  {
   "cell_type": "code",
   "execution_count": 44,
   "metadata": {},
   "outputs": [
    {
     "data": {
      "text/html": [
       "<div>\n",
       "<style scoped>\n",
       "    .dataframe tbody tr th:only-of-type {\n",
       "        vertical-align: middle;\n",
       "    }\n",
       "\n",
       "    .dataframe tbody tr th {\n",
       "        vertical-align: top;\n",
       "    }\n",
       "\n",
       "    .dataframe thead th {\n",
       "        text-align: right;\n",
       "    }\n",
       "</style>\n",
       "<table border=\"1\" class=\"dataframe\">\n",
       "  <thead>\n",
       "    <tr style=\"text-align: right;\">\n",
       "      <th></th>\n",
       "      <th>age</th>\n",
       "      <th>bmi</th>\n",
       "      <th>charges</th>\n",
       "    </tr>\n",
       "  </thead>\n",
       "  <tbody>\n",
       "    <tr>\n",
       "      <th>count</th>\n",
       "      <td>315.000000</td>\n",
       "      <td>304.000000</td>\n",
       "      <td>330.000000</td>\n",
       "    </tr>\n",
       "    <tr>\n",
       "      <th>mean</th>\n",
       "      <td>40.063492</td>\n",
       "      <td>30.743964</td>\n",
       "      <td>13698.153359</td>\n",
       "    </tr>\n",
       "    <tr>\n",
       "      <th>std</th>\n",
       "      <td>14.474305</td>\n",
       "      <td>5.632816</td>\n",
       "      <td>12380.939002</td>\n",
       "    </tr>\n",
       "    <tr>\n",
       "      <th>min</th>\n",
       "      <td>18.000000</td>\n",
       "      <td>15.960000</td>\n",
       "      <td>1137.011000</td>\n",
       "    </tr>\n",
       "    <tr>\n",
       "      <th>25%</th>\n",
       "      <td>28.000000</td>\n",
       "      <td>26.730000</td>\n",
       "      <td>4828.586213</td>\n",
       "    </tr>\n",
       "    <tr>\n",
       "      <th>50%</th>\n",
       "      <td>40.000000</td>\n",
       "      <td>30.250000</td>\n",
       "      <td>9621.791225</td>\n",
       "    </tr>\n",
       "    <tr>\n",
       "      <th>75%</th>\n",
       "      <td>53.000000</td>\n",
       "      <td>34.777500</td>\n",
       "      <td>17637.453087</td>\n",
       "    </tr>\n",
       "    <tr>\n",
       "      <th>max</th>\n",
       "      <td>64.000000</td>\n",
       "      <td>49.060000</td>\n",
       "      <td>51194.559140</td>\n",
       "    </tr>\n",
       "  </tbody>\n",
       "</table>\n",
       "</div>"
      ],
      "text/plain": [
       "              age         bmi       charges\n",
       "count  315.000000  304.000000    330.000000\n",
       "mean    40.063492   30.743964  13698.153359\n",
       "std     14.474305    5.632816  12380.939002\n",
       "min     18.000000   15.960000   1137.011000\n",
       "25%     28.000000   26.730000   4828.586213\n",
       "50%     40.000000   30.250000   9621.791225\n",
       "75%     53.000000   34.777500  17637.453087\n",
       "max     64.000000   49.060000  51194.559140"
      ]
     },
     "execution_count": 44,
     "metadata": {},
     "output_type": "execute_result"
    }
   ],
   "source": [
    "insurance.describe()"
   ]
  },
  {
   "cell_type": "code",
   "execution_count": 45,
   "metadata": {},
   "outputs": [
    {
     "data": {
      "text/plain": [
       "age        33\n",
       "bmi        44\n",
       "charges    18\n",
       "dtype: int64"
      ]
     },
     "execution_count": 45,
     "metadata": {},
     "output_type": "execute_result"
    }
   ],
   "source": [
    "np.sum(insurance.isnull())"
   ]
  },
  {
   "cell_type": "code",
   "execution_count": 46,
   "metadata": {},
   "outputs": [
    {
     "data": {
      "text/plain": [
       "age        0\n",
       "bmi        0\n",
       "charges    0\n",
       "dtype: int64"
      ]
     },
     "execution_count": 46,
     "metadata": {},
     "output_type": "execute_result"
    }
   ],
   "source": [
    "insurance['age'] = insurance['age'].fillna((insurance['age'].mean()))\n",
    "insurance['bmi'] = insurance['bmi'].fillna((insurance['bmi'].mean()))\n",
    "insurance['charges'] = insurance['charges'].fillna((insurance['charges'].mean()))\n",
    "\n",
    "np.sum(insurance.isnull())"
   ]
  },
  {
   "cell_type": "code",
   "execution_count": 47,
   "metadata": {},
   "outputs": [
    {
     "data": {
      "text/html": [
       "<div>\n",
       "<style scoped>\n",
       "    .dataframe tbody tr th:only-of-type {\n",
       "        vertical-align: middle;\n",
       "    }\n",
       "\n",
       "    .dataframe tbody tr th {\n",
       "        vertical-align: top;\n",
       "    }\n",
       "\n",
       "    .dataframe thead th {\n",
       "        text-align: right;\n",
       "    }\n",
       "</style>\n",
       "<table border=\"1\" class=\"dataframe\">\n",
       "  <thead>\n",
       "    <tr style=\"text-align: right;\">\n",
       "      <th></th>\n",
       "      <th>age</th>\n",
       "      <th>bmi</th>\n",
       "      <th>charges</th>\n",
       "    </tr>\n",
       "  </thead>\n",
       "  <tbody>\n",
       "    <tr>\n",
       "      <th>343</th>\n",
       "      <td>63.000000</td>\n",
       "      <td>36.765000</td>\n",
       "      <td>13981.85035</td>\n",
       "    </tr>\n",
       "    <tr>\n",
       "      <th>344</th>\n",
       "      <td>49.000000</td>\n",
       "      <td>30.743964</td>\n",
       "      <td>10977.20630</td>\n",
       "    </tr>\n",
       "    <tr>\n",
       "      <th>345</th>\n",
       "      <td>40.063492</td>\n",
       "      <td>29.260000</td>\n",
       "      <td>6184.29940</td>\n",
       "    </tr>\n",
       "    <tr>\n",
       "      <th>346</th>\n",
       "      <td>33.000000</td>\n",
       "      <td>35.750000</td>\n",
       "      <td>4889.99950</td>\n",
       "    </tr>\n",
       "    <tr>\n",
       "      <th>347</th>\n",
       "      <td>46.000000</td>\n",
       "      <td>33.345000</td>\n",
       "      <td>8334.45755</td>\n",
       "    </tr>\n",
       "  </tbody>\n",
       "</table>\n",
       "</div>"
      ],
      "text/plain": [
       "           age        bmi      charges\n",
       "343  63.000000  36.765000  13981.85035\n",
       "344  49.000000  30.743964  10977.20630\n",
       "345  40.063492  29.260000   6184.29940\n",
       "346  33.000000  35.750000   4889.99950\n",
       "347  46.000000  33.345000   8334.45755"
      ]
     },
     "execution_count": 47,
     "metadata": {},
     "output_type": "execute_result"
    }
   ],
   "source": [
    "insurance.tail()"
   ]
  },
  {
   "cell_type": "code",
   "execution_count": 48,
   "metadata": {},
   "outputs": [],
   "source": [
    "insurance.to_excel(\"insurance_no_missing.xlsx\")"
   ]
  },
  {
   "cell_type": "code",
   "execution_count": 49,
   "metadata": {
    "scrolled": true
   },
   "outputs": [
    {
     "name": "stdout",
     "output_type": "stream",
     "text": [
      "[[1.53199535e+00 5.41086605e-01 2.64721306e-01]\n",
      " [1.60472761e+00 5.75727313e-01 9.94549952e-01]\n",
      " [8.77405022e-01 4.29228724e-01 7.68277962e-01]\n",
      " ...\n",
      " [5.16793779e-16 2.82335851e-01 6.24167051e-01]\n",
      " [5.13743730e-01 9.52437970e-01 7.31683028e-01]\n",
      " [4.31775629e-01 4.94867702e-01 4.45555931e-01]]\n",
      "(345, 3)\n"
     ]
    }
   ],
   "source": [
    "from scipy import stats\n",
    "z = np.abs(stats.zscore(insurance._get_numeric_data()))\n",
    "print(z)\n",
    "insurance = insurance[(z < 3).all(axis=1)]\n",
    "print(insurance.shape)"
   ]
  },
  {
   "cell_type": "code",
   "execution_count": 50,
   "metadata": {},
   "outputs": [],
   "source": [
    "insurance.to_excel(\"insurance_no_missing+out.xlsx\")"
   ]
  },
  {
   "cell_type": "code",
   "execution_count": 57,
   "metadata": {},
   "outputs": [
    {
     "data": {
      "text/html": [
       "<div>\n",
       "<style scoped>\n",
       "    .dataframe tbody tr th:only-of-type {\n",
       "        vertical-align: middle;\n",
       "    }\n",
       "\n",
       "    .dataframe tbody tr th {\n",
       "        vertical-align: top;\n",
       "    }\n",
       "\n",
       "    .dataframe thead th {\n",
       "        text-align: right;\n",
       "    }\n",
       "</style>\n",
       "<table border=\"1\" class=\"dataframe\">\n",
       "  <thead>\n",
       "    <tr style=\"text-align: right;\">\n",
       "      <th></th>\n",
       "      <th>Unnamed: 0</th>\n",
       "      <th>age</th>\n",
       "      <th>bmi</th>\n",
       "      <th>charges</th>\n",
       "    </tr>\n",
       "  </thead>\n",
       "  <tbody>\n",
       "    <tr>\n",
       "      <th>343</th>\n",
       "      <td>343</td>\n",
       "      <td>63.000000</td>\n",
       "      <td>36.765000</td>\n",
       "      <td>13981.85035</td>\n",
       "    </tr>\n",
       "    <tr>\n",
       "      <th>344</th>\n",
       "      <td>344</td>\n",
       "      <td>49.000000</td>\n",
       "      <td>30.743964</td>\n",
       "      <td>10977.20630</td>\n",
       "    </tr>\n",
       "    <tr>\n",
       "      <th>345</th>\n",
       "      <td>345</td>\n",
       "      <td>40.063492</td>\n",
       "      <td>29.260000</td>\n",
       "      <td>6184.29940</td>\n",
       "    </tr>\n",
       "    <tr>\n",
       "      <th>346</th>\n",
       "      <td>346</td>\n",
       "      <td>33.000000</td>\n",
       "      <td>35.750000</td>\n",
       "      <td>4889.99950</td>\n",
       "    </tr>\n",
       "    <tr>\n",
       "      <th>347</th>\n",
       "      <td>347</td>\n",
       "      <td>46.000000</td>\n",
       "      <td>33.345000</td>\n",
       "      <td>8334.45755</td>\n",
       "    </tr>\n",
       "  </tbody>\n",
       "</table>\n",
       "</div>"
      ],
      "text/plain": [
       "     Unnamed: 0        age        bmi      charges\n",
       "343         343  63.000000  36.765000  13981.85035\n",
       "344         344  49.000000  30.743964  10977.20630\n",
       "345         345  40.063492  29.260000   6184.29940\n",
       "346         346  33.000000  35.750000   4889.99950\n",
       "347         347  46.000000  33.345000   8334.45755"
      ]
     },
     "execution_count": 57,
     "metadata": {},
     "output_type": "execute_result"
    }
   ],
   "source": [
    "insurance_no_missing = pd.read_csv('G:\\Kuliah\\Data Mining\\Transformasi Data\\Tugas\\insurance_no_missing.csv')\n",
    "insurance_no_missing.tail()"
   ]
  },
  {
   "cell_type": "code",
   "execution_count": 58,
   "metadata": {},
   "outputs": [
    {
     "data": {
      "text/html": [
       "<div>\n",
       "<style scoped>\n",
       "    .dataframe tbody tr th:only-of-type {\n",
       "        vertical-align: middle;\n",
       "    }\n",
       "\n",
       "    .dataframe tbody tr th {\n",
       "        vertical-align: top;\n",
       "    }\n",
       "\n",
       "    .dataframe thead th {\n",
       "        text-align: right;\n",
       "    }\n",
       "</style>\n",
       "<table border=\"1\" class=\"dataframe\">\n",
       "  <thead>\n",
       "    <tr style=\"text-align: right;\">\n",
       "      <th></th>\n",
       "      <th>age</th>\n",
       "      <th>bmi</th>\n",
       "      <th>charges</th>\n",
       "    </tr>\n",
       "  </thead>\n",
       "  <tbody>\n",
       "    <tr>\n",
       "      <th>343</th>\n",
       "      <td>63.000000</td>\n",
       "      <td>36.765000</td>\n",
       "      <td>13981.85035</td>\n",
       "    </tr>\n",
       "    <tr>\n",
       "      <th>344</th>\n",
       "      <td>49.000000</td>\n",
       "      <td>30.743964</td>\n",
       "      <td>10977.20630</td>\n",
       "    </tr>\n",
       "    <tr>\n",
       "      <th>345</th>\n",
       "      <td>40.063492</td>\n",
       "      <td>29.260000</td>\n",
       "      <td>6184.29940</td>\n",
       "    </tr>\n",
       "    <tr>\n",
       "      <th>346</th>\n",
       "      <td>33.000000</td>\n",
       "      <td>35.750000</td>\n",
       "      <td>4889.99950</td>\n",
       "    </tr>\n",
       "    <tr>\n",
       "      <th>347</th>\n",
       "      <td>46.000000</td>\n",
       "      <td>33.345000</td>\n",
       "      <td>8334.45755</td>\n",
       "    </tr>\n",
       "  </tbody>\n",
       "</table>\n",
       "</div>"
      ],
      "text/plain": [
       "           age        bmi      charges\n",
       "343  63.000000  36.765000  13981.85035\n",
       "344  49.000000  30.743964  10977.20630\n",
       "345  40.063492  29.260000   6184.29940\n",
       "346  33.000000  35.750000   4889.99950\n",
       "347  46.000000  33.345000   8334.45755"
      ]
     },
     "execution_count": 58,
     "metadata": {},
     "output_type": "execute_result"
    }
   ],
   "source": [
    "x = insurance_no_missing.iloc[0:348,1:4]\n",
    "x.tail()"
   ]
  },
  {
   "cell_type": "code",
   "execution_count": 59,
   "metadata": {},
   "outputs": [
    {
     "data": {
      "text/html": [
       "<div>\n",
       "<style scoped>\n",
       "    .dataframe tbody tr th:only-of-type {\n",
       "        vertical-align: middle;\n",
       "    }\n",
       "\n",
       "    .dataframe tbody tr th {\n",
       "        vertical-align: top;\n",
       "    }\n",
       "\n",
       "    .dataframe thead th {\n",
       "        text-align: right;\n",
       "    }\n",
       "</style>\n",
       "<table border=\"1\" class=\"dataframe\">\n",
       "  <thead>\n",
       "    <tr style=\"text-align: right;\">\n",
       "      <th></th>\n",
       "      <th>0</th>\n",
       "      <th>1</th>\n",
       "      <th>2</th>\n",
       "    </tr>\n",
       "  </thead>\n",
       "  <tbody>\n",
       "    <tr>\n",
       "      <th>343</th>\n",
       "      <td>0.004506</td>\n",
       "      <td>0.002629</td>\n",
       "      <td>0.999986</td>\n",
       "    </tr>\n",
       "    <tr>\n",
       "      <th>344</th>\n",
       "      <td>0.004464</td>\n",
       "      <td>0.002801</td>\n",
       "      <td>0.999986</td>\n",
       "    </tr>\n",
       "    <tr>\n",
       "      <th>345</th>\n",
       "      <td>0.006478</td>\n",
       "      <td>0.004731</td>\n",
       "      <td>0.999968</td>\n",
       "    </tr>\n",
       "    <tr>\n",
       "      <th>346</th>\n",
       "      <td>0.006748</td>\n",
       "      <td>0.007310</td>\n",
       "      <td>0.999951</td>\n",
       "    </tr>\n",
       "    <tr>\n",
       "      <th>347</th>\n",
       "      <td>0.005519</td>\n",
       "      <td>0.004001</td>\n",
       "      <td>0.999977</td>\n",
       "    </tr>\n",
       "  </tbody>\n",
       "</table>\n",
       "</div>"
      ],
      "text/plain": [
       "            0         1         2\n",
       "343  0.004506  0.002629  0.999986\n",
       "344  0.004464  0.002801  0.999986\n",
       "345  0.006478  0.004731  0.999968\n",
       "346  0.006748  0.007310  0.999951\n",
       "347  0.005519  0.004001  0.999977"
      ]
     },
     "execution_count": 59,
     "metadata": {},
     "output_type": "execute_result"
    }
   ],
   "source": [
    "from sklearn.preprocessing import normalize\n",
    "xnorm = normalize(x,norm='l2')\n",
    "xnorm = pd.DataFrame(xnorm)\n",
    "xnorm.tail()"
   ]
  },
  {
   "cell_type": "code",
   "execution_count": 60,
   "metadata": {},
   "outputs": [
    {
     "name": "stdout",
     "output_type": "stream",
     "text": [
      "            0         1         2\n",
      "0    0.002862  0.002864  0.002874\n",
      "1    0.002889  0.002916  0.002873\n",
      "2    0.002877  0.002881  0.002874\n",
      "3    0.002864  0.002863  0.002874\n",
      "4    0.002882  0.002881  0.002874\n",
      "5    0.002882  0.002879  0.002874\n",
      "6    0.002875  0.002871  0.002874\n",
      "7    0.002873  0.002870  0.002874\n",
      "8    0.002866  0.002866  0.002874\n",
      "9    0.002865  0.002862  0.002874\n",
      "10   0.002885  0.002887  0.002873\n",
      "11   0.002865  0.002862  0.002874\n",
      "12   0.002895  0.002914  0.002873\n",
      "13   0.002873  0.002870  0.002874\n",
      "14   0.002864  0.002868  0.002874\n",
      "15   0.002888  0.002898  0.002873\n",
      "16   0.002873  0.002868  0.002874\n",
      "17   0.002886  0.002888  0.002873\n",
      "18   0.002874  0.002870  0.002874\n",
      "19   0.002861  0.002862  0.002874\n",
      "20   0.002872  0.002867  0.002874\n",
      "21   0.002879  0.002882  0.002874\n",
      "22   0.002904  0.002947  0.002872\n",
      "23   0.002862  0.002862  0.002874\n",
      "24   0.002876  0.002873  0.002874\n",
      "25   0.002871  0.002865  0.002874\n",
      "26   0.002871  0.002864  0.002874\n",
      "27   0.002872  0.002867  0.002874\n",
      "28   0.002883  0.002878  0.002874\n",
      "29   0.002861  0.002862  0.002874\n",
      "..        ...       ...       ...\n",
      "318  0.002876  0.002870  0.002874\n",
      "319  0.002878  0.002883  0.002874\n",
      "320  0.002879  0.002874  0.002874\n",
      "321  0.002862  0.002863  0.002874\n",
      "322  0.002861  0.002862  0.002874\n",
      "323  0.002873  0.002870  0.002874\n",
      "324  0.002888  0.002887  0.002873\n",
      "325  0.002876  0.002874  0.002874\n",
      "326  0.002880  0.002878  0.002874\n",
      "327  0.002862  0.002862  0.002874\n",
      "328  0.002863  0.002862  0.002874\n",
      "329  0.002875  0.002869  0.002874\n",
      "330  0.002862  0.002862  0.002874\n",
      "331  0.002865  0.002863  0.002874\n",
      "332  0.002872  0.002866  0.002874\n",
      "333  0.002872  0.002867  0.002874\n",
      "334  0.002865  0.002865  0.002874\n",
      "335  0.002867  0.002867  0.002874\n",
      "336  0.002873  0.002866  0.002874\n",
      "337  0.002871  0.002866  0.002874\n",
      "338  0.002862  0.002862  0.002874\n",
      "339  0.002875  0.002869  0.002874\n",
      "340  0.002862  0.002864  0.002874\n",
      "341  0.002872  0.002866  0.002874\n",
      "342  0.002872  0.002866  0.002874\n",
      "343  0.002872  0.002867  0.002874\n",
      "344  0.002872  0.002868  0.002874\n",
      "345  0.002877  0.002873  0.002874\n",
      "346  0.002878  0.002881  0.002874\n",
      "347  0.002875  0.002871  0.002874\n",
      "\n",
      "[348 rows x 3 columns]\n"
     ]
    }
   ],
   "source": [
    "def softmax(x):\n",
    "    return np.exp(x)/np.sum(np.exp(x), axis=0)\n",
    "xsoft = softmax(xnorm)\n",
    "xsoft = pd.DataFrame(xsoft)\n",
    "print(xsoft)"
   ]
  },
  {
   "cell_type": "code",
   "execution_count": 66,
   "metadata": {},
   "outputs": [],
   "source": [
    "xsoft.to_excel(\"insurance_no_missing+transformasi.xlsx\")"
   ]
  },
  {
   "cell_type": "code",
   "execution_count": 61,
   "metadata": {},
   "outputs": [
    {
     "data": {
      "text/html": [
       "<div>\n",
       "<style scoped>\n",
       "    .dataframe tbody tr th:only-of-type {\n",
       "        vertical-align: middle;\n",
       "    }\n",
       "\n",
       "    .dataframe tbody tr th {\n",
       "        vertical-align: top;\n",
       "    }\n",
       "\n",
       "    .dataframe thead th {\n",
       "        text-align: right;\n",
       "    }\n",
       "</style>\n",
       "<table border=\"1\" class=\"dataframe\">\n",
       "  <thead>\n",
       "    <tr style=\"text-align: right;\">\n",
       "      <th></th>\n",
       "      <th>Unnamed: 0</th>\n",
       "      <th>age</th>\n",
       "      <th>bmi</th>\n",
       "      <th>charges</th>\n",
       "    </tr>\n",
       "  </thead>\n",
       "  <tbody>\n",
       "    <tr>\n",
       "      <th>340</th>\n",
       "      <td>343</td>\n",
       "      <td>63.000000</td>\n",
       "      <td>36.765000</td>\n",
       "      <td>13981.85035</td>\n",
       "    </tr>\n",
       "    <tr>\n",
       "      <th>341</th>\n",
       "      <td>344</td>\n",
       "      <td>49.000000</td>\n",
       "      <td>30.743964</td>\n",
       "      <td>10977.20630</td>\n",
       "    </tr>\n",
       "    <tr>\n",
       "      <th>342</th>\n",
       "      <td>345</td>\n",
       "      <td>40.063492</td>\n",
       "      <td>29.260000</td>\n",
       "      <td>6184.29940</td>\n",
       "    </tr>\n",
       "    <tr>\n",
       "      <th>343</th>\n",
       "      <td>346</td>\n",
       "      <td>33.000000</td>\n",
       "      <td>35.750000</td>\n",
       "      <td>4889.99950</td>\n",
       "    </tr>\n",
       "    <tr>\n",
       "      <th>344</th>\n",
       "      <td>347</td>\n",
       "      <td>46.000000</td>\n",
       "      <td>33.345000</td>\n",
       "      <td>8334.45755</td>\n",
       "    </tr>\n",
       "  </tbody>\n",
       "</table>\n",
       "</div>"
      ],
      "text/plain": [
       "     Unnamed: 0        age        bmi      charges\n",
       "340         343  63.000000  36.765000  13981.85035\n",
       "341         344  49.000000  30.743964  10977.20630\n",
       "342         345  40.063492  29.260000   6184.29940\n",
       "343         346  33.000000  35.750000   4889.99950\n",
       "344         347  46.000000  33.345000   8334.45755"
      ]
     },
     "execution_count": 61,
     "metadata": {},
     "output_type": "execute_result"
    }
   ],
   "source": [
    "insurance_no_missing_out = pd.read_csv('G:\\Kuliah\\Data Mining\\Transformasi Data\\Tugas\\insurance_no_missing+out.csv')\n",
    "insurance_no_missing_out.tail()"
   ]
  },
  {
   "cell_type": "code",
   "execution_count": 63,
   "metadata": {},
   "outputs": [
    {
     "data": {
      "text/html": [
       "<div>\n",
       "<style scoped>\n",
       "    .dataframe tbody tr th:only-of-type {\n",
       "        vertical-align: middle;\n",
       "    }\n",
       "\n",
       "    .dataframe tbody tr th {\n",
       "        vertical-align: top;\n",
       "    }\n",
       "\n",
       "    .dataframe thead th {\n",
       "        text-align: right;\n",
       "    }\n",
       "</style>\n",
       "<table border=\"1\" class=\"dataframe\">\n",
       "  <thead>\n",
       "    <tr style=\"text-align: right;\">\n",
       "      <th></th>\n",
       "      <th>age</th>\n",
       "      <th>bmi</th>\n",
       "      <th>charges</th>\n",
       "    </tr>\n",
       "  </thead>\n",
       "  <tbody>\n",
       "    <tr>\n",
       "      <th>340</th>\n",
       "      <td>24.0</td>\n",
       "      <td>27.600000</td>\n",
       "      <td>18955.22017</td>\n",
       "    </tr>\n",
       "    <tr>\n",
       "      <th>341</th>\n",
       "      <td>62.0</td>\n",
       "      <td>30.020000</td>\n",
       "      <td>13352.09980</td>\n",
       "    </tr>\n",
       "    <tr>\n",
       "      <th>342</th>\n",
       "      <td>60.0</td>\n",
       "      <td>27.550000</td>\n",
       "      <td>13217.09450</td>\n",
       "    </tr>\n",
       "    <tr>\n",
       "      <th>343</th>\n",
       "      <td>63.0</td>\n",
       "      <td>36.765000</td>\n",
       "      <td>13981.85035</td>\n",
       "    </tr>\n",
       "    <tr>\n",
       "      <th>344</th>\n",
       "      <td>49.0</td>\n",
       "      <td>30.743964</td>\n",
       "      <td>10977.20630</td>\n",
       "    </tr>\n",
       "  </tbody>\n",
       "</table>\n",
       "</div>"
      ],
      "text/plain": [
       "      age        bmi      charges\n",
       "340  24.0  27.600000  18955.22017\n",
       "341  62.0  30.020000  13352.09980\n",
       "342  60.0  27.550000  13217.09450\n",
       "343  63.0  36.765000  13981.85035\n",
       "344  49.0  30.743964  10977.20630"
      ]
     },
     "execution_count": 63,
     "metadata": {},
     "output_type": "execute_result"
    }
   ],
   "source": [
    "y = insurance_no_missing.iloc[0:345,1:4]\n",
    "y.tail()"
   ]
  },
  {
   "cell_type": "code",
   "execution_count": 64,
   "metadata": {},
   "outputs": [
    {
     "data": {
      "text/html": [
       "<div>\n",
       "<style scoped>\n",
       "    .dataframe tbody tr th:only-of-type {\n",
       "        vertical-align: middle;\n",
       "    }\n",
       "\n",
       "    .dataframe tbody tr th {\n",
       "        vertical-align: top;\n",
       "    }\n",
       "\n",
       "    .dataframe thead th {\n",
       "        text-align: right;\n",
       "    }\n",
       "</style>\n",
       "<table border=\"1\" class=\"dataframe\">\n",
       "  <thead>\n",
       "    <tr style=\"text-align: right;\">\n",
       "      <th></th>\n",
       "      <th>0</th>\n",
       "      <th>1</th>\n",
       "      <th>2</th>\n",
       "    </tr>\n",
       "  </thead>\n",
       "  <tbody>\n",
       "    <tr>\n",
       "      <th>340</th>\n",
       "      <td>0.001266</td>\n",
       "      <td>0.001456</td>\n",
       "      <td>0.999998</td>\n",
       "    </tr>\n",
       "    <tr>\n",
       "      <th>341</th>\n",
       "      <td>0.004643</td>\n",
       "      <td>0.002248</td>\n",
       "      <td>0.999987</td>\n",
       "    </tr>\n",
       "    <tr>\n",
       "      <th>342</th>\n",
       "      <td>0.004540</td>\n",
       "      <td>0.002084</td>\n",
       "      <td>0.999988</td>\n",
       "    </tr>\n",
       "    <tr>\n",
       "      <th>343</th>\n",
       "      <td>0.004506</td>\n",
       "      <td>0.002629</td>\n",
       "      <td>0.999986</td>\n",
       "    </tr>\n",
       "    <tr>\n",
       "      <th>344</th>\n",
       "      <td>0.004464</td>\n",
       "      <td>0.002801</td>\n",
       "      <td>0.999986</td>\n",
       "    </tr>\n",
       "  </tbody>\n",
       "</table>\n",
       "</div>"
      ],
      "text/plain": [
       "            0         1         2\n",
       "340  0.001266  0.001456  0.999998\n",
       "341  0.004643  0.002248  0.999987\n",
       "342  0.004540  0.002084  0.999988\n",
       "343  0.004506  0.002629  0.999986\n",
       "344  0.004464  0.002801  0.999986"
      ]
     },
     "execution_count": 64,
     "metadata": {},
     "output_type": "execute_result"
    }
   ],
   "source": [
    "from sklearn.preprocessing import normalize\n",
    "ynorm = normalize(y,norm='l2')\n",
    "ynorm = pd.DataFrame(ynorm)\n",
    "ynorm.tail()"
   ]
  },
  {
   "cell_type": "code",
   "execution_count": 65,
   "metadata": {
    "scrolled": true
   },
   "outputs": [
    {
     "data": {
      "text/html": [
       "<div>\n",
       "<style scoped>\n",
       "    .dataframe tbody tr th:only-of-type {\n",
       "        vertical-align: middle;\n",
       "    }\n",
       "\n",
       "    .dataframe tbody tr th {\n",
       "        vertical-align: top;\n",
       "    }\n",
       "\n",
       "    .dataframe thead th {\n",
       "        text-align: right;\n",
       "    }\n",
       "</style>\n",
       "<table border=\"1\" class=\"dataframe\">\n",
       "  <thead>\n",
       "    <tr style=\"text-align: right;\">\n",
       "      <th></th>\n",
       "      <th>0</th>\n",
       "      <th>1</th>\n",
       "      <th>2</th>\n",
       "    </tr>\n",
       "  </thead>\n",
       "  <tbody>\n",
       "    <tr>\n",
       "      <th>340</th>\n",
       "      <td>0.000633</td>\n",
       "      <td>0.000728</td>\n",
       "      <td>0.462116</td>\n",
       "    </tr>\n",
       "    <tr>\n",
       "      <th>341</th>\n",
       "      <td>0.002322</td>\n",
       "      <td>0.001124</td>\n",
       "      <td>0.462112</td>\n",
       "    </tr>\n",
       "    <tr>\n",
       "      <th>342</th>\n",
       "      <td>0.002270</td>\n",
       "      <td>0.001042</td>\n",
       "      <td>0.462112</td>\n",
       "    </tr>\n",
       "    <tr>\n",
       "      <th>343</th>\n",
       "      <td>0.002253</td>\n",
       "      <td>0.001315</td>\n",
       "      <td>0.462112</td>\n",
       "    </tr>\n",
       "    <tr>\n",
       "      <th>344</th>\n",
       "      <td>0.002232</td>\n",
       "      <td>0.001400</td>\n",
       "      <td>0.462112</td>\n",
       "    </tr>\n",
       "  </tbody>\n",
       "</table>\n",
       "</div>"
      ],
      "text/plain": [
       "            0         1         2\n",
       "340  0.000633  0.000728  0.462116\n",
       "341  0.002322  0.001124  0.462112\n",
       "342  0.002270  0.001042  0.462112\n",
       "343  0.002253  0.001315  0.462112\n",
       "344  0.002232  0.001400  0.462112"
      ]
     },
     "execution_count": 65,
     "metadata": {},
     "output_type": "execute_result"
    }
   ],
   "source": [
    "ysigmoidal = (1-2.718281828**(-ynorm))/(1+2.718281828**(-ynorm))\n",
    "ysigmoidal = pd.DataFrame(ysigmoidal)\n",
    "ysigmoidal.tail()"
   ]
  },
  {
   "cell_type": "code",
   "execution_count": 68,
   "metadata": {},
   "outputs": [],
   "source": [
    "ysigmoidal.to_excel(\"insurance_no_missing+out+transformasi.xlsx\")"
   ]
  },
  {
   "cell_type": "code",
   "execution_count": null,
   "metadata": {},
   "outputs": [],
   "source": []
  }
 ],
 "metadata": {
  "kernelspec": {
   "display_name": "Python 3",
   "language": "python",
   "name": "python3"
  },
  "language_info": {
   "codemirror_mode": {
    "name": "ipython",
    "version": 3
   },
   "file_extension": ".py",
   "mimetype": "text/x-python",
   "name": "python",
   "nbconvert_exporter": "python",
   "pygments_lexer": "ipython3",
   "version": "3.7.1"
  }
 },
 "nbformat": 4,
 "nbformat_minor": 2
}
